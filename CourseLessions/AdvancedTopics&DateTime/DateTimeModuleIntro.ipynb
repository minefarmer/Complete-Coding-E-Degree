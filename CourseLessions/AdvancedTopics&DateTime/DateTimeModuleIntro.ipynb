{
 "cells": [
  {
   "cell_type": "markdown",
   "id": "7e58a6e9",
   "metadata": {},
   "source": [
    "Date Time Module Intro   Section 6.3"
   ]
  },
  {
   "cell_type": "code",
   "execution_count": 2,
   "id": "c09c9fa6",
   "metadata": {},
   "outputs": [],
   "source": [
    "import datetime"
   ]
  },
  {
   "cell_type": "code",
   "execution_count": 3,
   "id": "7360489d",
   "metadata": {},
   "outputs": [
    {
     "name": "stdout",
     "output_type": "stream",
     "text": [
      "2021-06-25 19:03:44.262752\n"
     ]
    }
   ],
   "source": [
    "datetime_now = datetime.datetime.now()\n",
    "print(datetime_now)"
   ]
  },
  {
   "cell_type": "code",
   "execution_count": 6,
   "id": "8b2b4d0f",
   "metadata": {},
   "outputs": [
    {
     "name": "stdout",
     "output_type": "stream",
     "text": [
      "2021-06-25\n"
     ]
    }
   ],
   "source": [
    "datetime_today = datetime.date.today()\n",
    "print(datetime_today)"
   ]
  },
  {
   "cell_type": "code",
   "execution_count": null,
   "id": "934d49ef",
   "metadata": {},
   "outputs": [],
   "source": []
  }
 ],
 "metadata": {
  "kernelspec": {
   "display_name": "Python 3",
   "language": "python",
   "name": "python3"
  },
  "language_info": {
   "codemirror_mode": {
    "name": "ipython",
    "version": 3
   },
   "file_extension": ".py",
   "mimetype": "text/x-python",
   "name": "python",
   "nbconvert_exporter": "python",
   "pygments_lexer": "ipython3",
   "version": "3.8.8"
  }
 },
 "nbformat": 4,
 "nbformat_minor": 5
}
