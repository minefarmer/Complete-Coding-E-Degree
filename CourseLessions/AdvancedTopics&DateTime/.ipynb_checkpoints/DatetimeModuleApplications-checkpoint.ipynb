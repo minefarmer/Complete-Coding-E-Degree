{
 "cells": [
  {
   "cell_type": "markdown",
   "id": "dbb3220c",
   "metadata": {},
   "source": [
    "Datetime Module Applications   Section 6.4"
   ]
  },
  {
   "cell_type": "code",
   "execution_count": 2,
   "id": "16a2bad6",
   "metadata": {},
   "outputs": [],
   "source": [
    "from datetime import datetime\n",
    "import pytz"
   ]
  },
  {
   "cell_type": "code",
   "execution_count": 3,
   "id": "5d602c6b",
   "metadata": {},
   "outputs": [
    {
     "name": "stdout",
     "output_type": "stream",
     "text": [
      "2021-06-25 19:22:01.250340\n"
     ]
    }
   ],
   "source": [
    "now = datetime.now()\n",
    "print(now)"
   ]
  },
  {
   "cell_type": "code",
   "execution_count": 4,
   "id": "44dd6c1b",
   "metadata": {},
   "outputs": [
    {
     "name": "stdout",
     "output_type": "stream",
     "text": [
      "The time is: 19:22L01\n"
     ]
    }
   ],
   "source": [
    "new_time = now.strftime(\"%H:%ML%S\")\n",
    "print(\"The time is:\",new_time)"
   ]
  },
  {
   "cell_type": "code",
   "execution_count": 6,
   "id": "a6e046e7",
   "metadata": {},
   "outputs": [
    {
     "name": "stdout",
     "output_type": "stream",
     "text": [
      "The date and time is: 06/25/2021, 19:22L01\n"
     ]
    }
   ],
   "source": [
    "new_time1 = now.strftime(\"%m/%d/%Y, %H:%ML%S\")\n",
    "print(\"The date and time is:\",new_time1)"
   ]
  },
  {
   "cell_type": "code",
   "execution_count": 12,
   "id": "e73ed861",
   "metadata": {
    "scrolled": true
   },
   "outputs": [
    {
     "name": "stdout",
     "output_type": "stream",
     "text": [
      "2021-06-25 20:40:32.627231-04:00\n"
     ]
    }
   ],
   "source": [
    "tz_NY = pytz.timezone(\"America/New_York\")\n",
    "datetime_ny = datetime.now(tz_NY)\n",
    "print(datetime_ny)"
   ]
  },
  {
   "cell_type": "code",
   "execution_count": null,
   "id": "03c73d01",
   "metadata": {},
   "outputs": [],
   "source": []
  }
 ],
 "metadata": {
  "kernelspec": {
   "display_name": "Python 3",
   "language": "python",
   "name": "python3"
  },
  "language_info": {
   "codemirror_mode": {
    "name": "ipython",
    "version": 3
   },
   "file_extension": ".py",
   "mimetype": "text/x-python",
   "name": "python",
   "nbconvert_exporter": "python",
   "pygments_lexer": "ipython3",
   "version": "3.8.8"
  }
 },
 "nbformat": 4,
 "nbformat_minor": 5
}
