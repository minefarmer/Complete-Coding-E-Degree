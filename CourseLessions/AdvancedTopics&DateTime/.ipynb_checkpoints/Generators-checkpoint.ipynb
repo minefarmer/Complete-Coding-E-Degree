{
 "cells": [
  {
   "cell_type": "markdown",
   "id": "ae71e9fc",
   "metadata": {},
   "source": [
    "Generators  Section 6.2"
   ]
  },
  {
   "cell_type": "markdown",
   "id": "d3d45418",
   "metadata": {},
   "source": [
    "Python Generators are a simple way of creating iterators.\n",
    "A function that returns an object/iterator which we can iterate over.\n",
    "    each singular value at a time."
   ]
  },
  {
   "cell_type": "code",
   "execution_count": 10,
   "id": "4334113e",
   "metadata": {},
   "outputs": [],
   "source": [
    "def my_generator():\n",
    "    i = 1\n",
    "    print(\"First Line\")\n",
    "    yield i\n",
    "    \n",
    "    i += 1\n",
    "    print(\"Second Line\")\n",
    "    yield i\n",
    "    \n",
    "    i += 1\n",
    "    print(\"Last Line\")\n",
    "    yield i"
   ]
  },
  {
   "cell_type": "code",
   "execution_count": 11,
   "id": "5e552b51",
   "metadata": {
    "scrolled": true
   },
   "outputs": [
    {
     "name": "stdout",
     "output_type": "stream",
     "text": [
      "First Line\n",
      "1\n",
      "Second Line\n",
      "2\n",
      "Last Line\n",
      "3\n"
     ]
    }
   ],
   "source": [
    "for thing in my_generator():\n",
    "    print(thing)"
   ]
  },
  {
   "cell_type": "code",
   "execution_count": 21,
   "id": "21258372",
   "metadata": {},
   "outputs": [],
   "source": [
    "def reverse_string(some_string):\n",
    "    length_of_string = len(some_string)\n",
    "    for i in range(length_of_string - 1, -1, -1):\n",
    "        yield some_string[i]\n",
    "    "
   ]
  },
  {
   "cell_type": "code",
   "execution_count": 22,
   "id": "aab97402",
   "metadata": {
    "scrolled": false
   },
   "outputs": [
    {
     "name": "stdout",
     "output_type": "stream",
     "text": [
      "n\n",
      "a\n",
      "m\n",
      "t\n",
      "a\n",
      "b\n"
     ]
    }
   ],
   "source": [
    "for letter in reverse_string(\"batman\"):\n",
    "    print(letter)"
   ]
  },
  {
   "cell_type": "code",
   "execution_count": null,
   "id": "c55798f3",
   "metadata": {},
   "outputs": [],
   "source": []
  }
 ],
 "metadata": {
  "kernelspec": {
   "display_name": "Python 3",
   "language": "python",
   "name": "python3"
  },
  "language_info": {
   "codemirror_mode": {
    "name": "ipython",
    "version": 3
   },
   "file_extension": ".py",
   "mimetype": "text/x-python",
   "name": "python",
   "nbconvert_exporter": "python",
   "pygments_lexer": "ipython3",
   "version": "3.8.8"
  }
 },
 "nbformat": 4,
 "nbformat_minor": 5
}
