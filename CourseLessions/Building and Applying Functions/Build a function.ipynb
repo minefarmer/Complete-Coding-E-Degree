{
 "cells": [
  {
   "cell_type": "markdown",
   "id": "d63e2a48",
   "metadata": {},
   "source": [
    "BUILD A FUNCTION.\n",
    "\n",
    "\n",
    "Logical statements and operators are the building blocks of functions.\n",
    "\n",
    "A function is a group of related statements, designed to accomplish a specific task.\n",
    "\n",
    "These are created in order to streamline tasks we might complete on a regular basis.\n",
    "\n",
    "Def\n",
    "    Used to begin defining a function.\n",
    "\n",
    "Return\n",
    "    An alternative method for gettingvalues as outputs, as to opposed to relying solely on things like print."
   ]
  },
  {
   "cell_type": "code",
   "execution_count": 7,
   "id": "b6c2062a",
   "metadata": {},
   "outputs": [],
   "source": [
    "def hello_there(name):\n",
    "    print(\"Hello there, \"+ name + \". Nice to meet you!\")\n",
    "    "
   ]
  },
  {
   "cell_type": "code",
   "execution_count": 8,
   "id": "cdc24e05",
   "metadata": {},
   "outputs": [
    {
     "name": "stdout",
     "output_type": "stream",
     "text": [
      "Hello there, Ashley. Nice to meet you!\n"
     ]
    }
   ],
   "source": [
    "hello_there(\"Ashley\")"
   ]
  },
  {
   "cell_type": "code",
   "execution_count": 13,
   "id": "ad24afae",
   "metadata": {},
   "outputs": [],
   "source": [
    "def squared_value(number):\n",
    "    x = number**2\n",
    "    return x"
   ]
  },
  {
   "cell_type": "code",
   "execution_count": 14,
   "id": "01051157",
   "metadata": {},
   "outputs": [
    {
     "data": {
      "text/plain": [
       "25"
      ]
     },
     "execution_count": 14,
     "metadata": {},
     "output_type": "execute_result"
    }
   ],
   "source": [
    "squared_value(5)"
   ]
  },
  {
   "cell_type": "code",
   "execution_count": 15,
   "id": "de68506b",
   "metadata": {},
   "outputs": [
    {
     "data": {
      "text/plain": [
       "25"
      ]
     },
     "execution_count": 15,
     "metadata": {},
     "output_type": "execute_result"
    }
   ],
   "source": [
    "squared_value(-5)"
   ]
  },
  {
   "cell_type": "code",
   "execution_count": 16,
   "id": "7294e911",
   "metadata": {},
   "outputs": [
    {
     "data": {
      "text/plain": [
       "0.25"
      ]
     },
     "execution_count": 16,
     "metadata": {},
     "output_type": "execute_result"
    }
   ],
   "source": [
    "squared_value(-0.5)"
   ]
  },
  {
   "cell_type": "code",
   "execution_count": null,
   "id": "ddad55ce",
   "metadata": {},
   "outputs": [],
   "source": []
  }
 ],
 "metadata": {
  "kernelspec": {
   "display_name": "Python 3",
   "language": "python",
   "name": "python3"
  },
  "language_info": {
   "codemirror_mode": {
    "name": "ipython",
    "version": 3
   },
   "file_extension": ".py",
   "mimetype": "text/x-python",
   "name": "python",
   "nbconvert_exporter": "python",
   "pygments_lexer": "ipython3",
   "version": "3.8.8"
  }
 },
 "nbformat": 4,
 "nbformat_minor": 5
}
