{
 "cells": [
  {
   "cell_type": "markdown",
   "id": "51e388df",
   "metadata": {},
   "source": [
    "Modules  Serction 3.4"
   ]
  },
  {
   "cell_type": "markdown",
   "id": "c45cea5e",
   "metadata": {},
   "source": [
    "Modules refer to a file containing Python statements and definitions.\n",
    "Break down large programs into small manageable/organized files.\n",
    "Often times modules save us a ton of time with already created functions we can use, instead of writing our own.\n",
    "Numby, Pandas, and Seaborn are very common data science modules."
   ]
  },
  {
   "cell_type": "code",
   "execution_count": 1,
   "id": "682b09a8",
   "metadata": {},
   "outputs": [],
   "source": [
    "import math"
   ]
  },
  {
   "cell_type": "code",
   "execution_count": 2,
   "id": "46359d09",
   "metadata": {},
   "outputs": [
    {
     "data": {
      "text/plain": [
       "3.141592653589793"
      ]
     },
     "execution_count": 2,
     "metadata": {},
     "output_type": "execute_result"
    }
   ],
   "source": [
    "math.pi"
   ]
  },
  {
   "cell_type": "code",
   "execution_count": 3,
   "id": "e4231e26",
   "metadata": {},
   "outputs": [],
   "source": [
    "import pandas as pd\n",
    "import numpy as np\n",
    "import seaborn as sns"
   ]
  }
 ],
 "metadata": {
  "kernelspec": {
   "display_name": "Python 3",
   "language": "python",
   "name": "python3"
  },
  "language_info": {
   "codemirror_mode": {
    "name": "ipython",
    "version": 3
   },
   "file_extension": ".py",
   "mimetype": "text/x-python",
   "name": "python",
   "nbconvert_exporter": "python",
   "pygments_lexer": "ipython3",
   "version": "3.8.8"
  }
 },
 "nbformat": 4,
 "nbformat_minor": 5
}
