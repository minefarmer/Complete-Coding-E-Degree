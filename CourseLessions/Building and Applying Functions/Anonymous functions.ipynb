{
 "cells": [
  {
   "cell_type": "markdown",
   "id": "92002e59",
   "metadata": {},
   "source": [
    "Anonymous functions   Section 3.3.\n",
    "\n",
    "These are functions defined without a formal name definition.\n",
    "They are called \"lambda\" functions.\n",
    "Great for functions that will be used a single time.\n",
    "Filtering data.\n",
    "    Picking list items that fit a given criteria.\n",
    "Mapping data.\n",
    "    Updating a list of values"
   ]
  },
  {
   "cell_type": "code",
   "execution_count": 1,
   "id": "816f0efb",
   "metadata": {},
   "outputs": [],
   "source": [
    "double = lambda x:x*2"
   ]
  },
  {
   "cell_type": "code",
   "execution_count": 2,
   "id": "43314517",
   "metadata": {},
   "outputs": [
    {
     "data": {
      "text/plain": [
       "10"
      ]
     },
     "execution_count": 2,
     "metadata": {},
     "output_type": "execute_result"
    }
   ],
   "source": [
    "double(5)"
   ]
  },
  {
   "cell_type": "code",
   "execution_count": 3,
   "id": "d12e558e",
   "metadata": {},
   "outputs": [
    {
     "data": {
      "text/plain": [
       "-10"
      ]
     },
     "execution_count": 3,
     "metadata": {},
     "output_type": "execute_result"
    }
   ],
   "source": [
    "double(-5)"
   ]
  },
  {
   "cell_type": "code",
   "execution_count": 4,
   "id": "da04a7f7",
   "metadata": {},
   "outputs": [],
   "source": [
    "def doubler(number):\n",
    "    return number*2"
   ]
  },
  {
   "cell_type": "code",
   "execution_count": 5,
   "id": "d429890d",
   "metadata": {},
   "outputs": [
    {
     "data": {
      "text/plain": [
       "10"
      ]
     },
     "execution_count": 5,
     "metadata": {},
     "output_type": "execute_result"
    }
   ],
   "source": [
    "doubler(5)"
   ]
  },
  {
   "cell_type": "code",
   "execution_count": 10,
   "id": "5619ed66",
   "metadata": {
    "scrolled": true
   },
   "outputs": [
    {
     "name": "stdout",
     "output_type": "stream",
     "text": [
      "[4, 6]\n"
     ]
    }
   ],
   "source": [
    "my_list = [1,4,5,6,7,19]\n",
    "\n",
    "new_list = list(filter(lambda x:(x%2 == 0) ,my_list))\n",
    "\n",
    "print(new_list)"
   ]
  },
  {
   "cell_type": "code",
   "execution_count": 12,
   "id": "133d7b02",
   "metadata": {},
   "outputs": [
    {
     "name": "stdout",
     "output_type": "stream",
     "text": [
      "[1, 16, 25, 36, 49, 361]\n"
     ]
    }
   ],
   "source": [
    "my_list = [1,4,5,6,7,19]\n",
    "\n",
    "new_list = list(map(lambda x:x**2,my_list))\n",
    "\n",
    "print(new_list)"
   ]
  },
  {
   "cell_type": "code",
   "execution_count": null,
   "id": "fc7b996e",
   "metadata": {},
   "outputs": [],
   "source": []
  }
 ],
 "metadata": {
  "kernelspec": {
   "display_name": "Python 3",
   "language": "python",
   "name": "python3"
  },
  "language_info": {
   "codemirror_mode": {
    "name": "ipython",
    "version": 3
   },
   "file_extension": ".py",
   "mimetype": "text/x-python",
   "name": "python",
   "nbconvert_exporter": "python",
   "pygments_lexer": "ipython3",
   "version": "3.8.8"
  }
 },
 "nbformat": 4,
 "nbformat_minor": 5
}
