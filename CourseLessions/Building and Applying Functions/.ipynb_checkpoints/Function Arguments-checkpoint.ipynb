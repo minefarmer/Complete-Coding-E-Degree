{
 "cells": [
  {
   "cell_type": "markdown",
   "id": "0995ee98",
   "metadata": {},
   "source": [
    "Function Arguments.  section 3.2\n",
    "\n",
    "In our last example we saw functions with singular arguments.\n",
    "    Name\n",
    "    Number\n",
    "\n",
    "I can think of arguments as the number of things we need to input in order for our finction to output.\n",
    "    Can have as few as 1 or as many as we like!\n",
    "\n",
    "Types of Arguments:\n",
    "    Positional\n",
    "    Keyword\n",
    "    *Arbitary\n"
   ]
  },
  {
   "cell_type": "code",
   "execution_count": 5,
   "id": "0f3b86f4",
   "metadata": {},
   "outputs": [],
   "source": [
    "def hello_there(name, greeting = \"Nice to meet you!\"):\n",
    "    print(\"Hello there, \"+name+\". \"+greeting)"
   ]
  },
  {
   "cell_type": "code",
   "execution_count": 6,
   "id": "5d4d0a7c",
   "metadata": {},
   "outputs": [
    {
     "name": "stdout",
     "output_type": "stream",
     "text": [
      "Hello there, Bill. Nice to meet you!\n"
     ]
    }
   ],
   "source": [
    "hello_there(\"Bill\")"
   ]
  },
  {
   "cell_type": "code",
   "execution_count": 7,
   "id": "7ab5a871",
   "metadata": {},
   "outputs": [
    {
     "name": "stdout",
     "output_type": "stream",
     "text": [
      "Hello there, Bill. what's up?\n"
     ]
    }
   ],
   "source": [
    "hello_there(\"Bill\",\"what's up?\")"
   ]
  },
  {
   "cell_type": "code",
   "execution_count": 8,
   "id": "622d2c9d",
   "metadata": {},
   "outputs": [
    {
     "name": "stdout",
     "output_type": "stream",
     "text": [
      "Hello there, Bill. whats's up?\n"
     ]
    }
   ],
   "source": [
    "#  the perfered way to do it.\n",
    "hello_there(greeting=\"whats's up?\",name=\"Bill\")"
   ]
  },
  {
   "cell_type": "code",
   "execution_count": 9,
   "id": "dd8c43a1",
   "metadata": {},
   "outputs": [],
   "source": [
    "def hello_there2(*names):\n",
    "    for x in names:\n",
    "        print(\"Hello there, \",x)"
   ]
  },
  {
   "cell_type": "code",
   "execution_count": 10,
   "id": "34f1388f",
   "metadata": {},
   "outputs": [
    {
     "name": "stdout",
     "output_type": "stream",
     "text": [
      "Hello there,  Bill\n",
      "Hello there,  Ashley\n",
      "Hello there,  Fred\n"
     ]
    }
   ],
   "source": [
    "hello_there2(\"Bill\", \"Ashley\", \"Fred\")"
   ]
  },
  {
   "cell_type": "code",
   "execution_count": null,
   "id": "28885702",
   "metadata": {},
   "outputs": [],
   "source": []
  }
 ],
 "metadata": {
  "kernelspec": {
   "display_name": "Python 3",
   "language": "python",
   "name": "python3"
  },
  "language_info": {
   "codemirror_mode": {
    "name": "ipython",
    "version": 3
   },
   "file_extension": ".py",
   "mimetype": "text/x-python",
   "name": "python",
   "nbconvert_exporter": "python",
   "pygments_lexer": "ipython3",
   "version": "3.8.8"
  }
 },
 "nbformat": 4,
 "nbformat_minor": 5
}
