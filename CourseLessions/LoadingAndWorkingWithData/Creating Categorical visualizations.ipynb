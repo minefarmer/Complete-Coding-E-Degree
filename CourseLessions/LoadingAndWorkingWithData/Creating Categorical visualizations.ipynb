{
 "cells": [
  {
   "cell_type": "markdown",
   "id": "cc7133b2",
   "metadata": {},
   "source": [
    "Creating categorical visuations"
   ]
  },
  {
   "cell_type": "markdown",
   "id": "649b8949",
   "metadata": {},
   "source": [
    "Categorical data refers to characteristics as opposed to numerical values."
   ]
  },
  {
   "cell_type": "markdown",
   "id": "f3f01890",
   "metadata": {},
   "source": [
    "Think of things like names, favorites, etc.\n",
    "Visualizations are key for defining patterns and trends within data.\n",
    "lso useful for understanding groups within data and how well they are represented."
   ]
  },
  {
   "cell_type": "code",
   "execution_count": 1,
   "id": "fa7afad5",
   "metadata": {},
   "outputs": [],
   "source": [
    "import pandas as pd\n",
    "import numpy as np\n",
    "import seaborn as sns\n",
    "import matplotlib.pyplot as plt\n",
    "%matplotlib inline\n",
    "from datetime import datetime"
   ]
  },
  {
   "cell_type": "code",
   "execution_count": 2,
   "id": "019c2b2b",
   "metadata": {},
   "outputs": [
    {
     "name": "stdout",
     "output_type": "stream",
     "text": [
      "Above Executed @ or B4: 06-25-2021, 22:10:44\n"
     ]
    }
   ],
   "source": [
    "# time Logging block for version control\n",
    "now = datetime.now()\n",
    "time_log = now.strftime(\"%m-%d-%Y, %H:%M:%S\")\n",
    "print(\"Above Executed @ or B4:\", time_log)"
   ]
  },
  {
   "cell_type": "markdown",
   "id": "ccf24104",
   "metadata": {},
   "source": [
    "Rest of class in last notebook on line 15"
   ]
  },
  {
   "cell_type": "code",
   "execution_count": null,
   "id": "080cfb24",
   "metadata": {},
   "outputs": [],
   "source": []
  }
 ],
 "metadata": {
  "kernelspec": {
   "display_name": "Python 3",
   "language": "python",
   "name": "python3"
  },
  "language_info": {
   "codemirror_mode": {
    "name": "ipython",
    "version": 3
   },
   "file_extension": ".py",
   "mimetype": "text/x-python",
   "name": "python",
   "nbconvert_exporter": "python",
   "pygments_lexer": "ipython3",
   "version": "3.8.8"
  }
 },
 "nbformat": 4,
 "nbformat_minor": 5
}
