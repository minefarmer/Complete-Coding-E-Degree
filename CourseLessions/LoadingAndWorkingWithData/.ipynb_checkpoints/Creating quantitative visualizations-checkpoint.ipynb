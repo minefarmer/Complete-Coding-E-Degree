{
 "cells": [
  {
   "cell_type": "markdown",
   "id": "99d0e3f1",
   "metadata": {},
   "source": [
    "Creating quqntitive visualizations"
   ]
  },
  {
   "cell_type": "markdown",
   "id": "202095ee",
   "metadata": {},
   "source": [
    "Quantitive data refers to numerical data values.\n",
    "Think of things we can measure.\n",
    "    Height, weight, etc.\n",
    "Visualizations are key for defining patterns and trends within data.\n",
    "Also useful for understanding groips within data and how well they are represented.\n",
    "    When working with quantitive data groups are often defined as clusters."
   ]
  },
  {
   "cell_type": "markdown",
   "id": "8708324b",
   "metadata": {},
   "source": [
    "Rest of lesson in loading data etc."
   ]
  },
  {
   "cell_type": "code",
   "execution_count": 1,
   "id": "5084f8ca",
   "metadata": {},
   "outputs": [],
   "source": [
    "# Line 21"
   ]
  },
  {
   "cell_type": "code",
   "execution_count": null,
   "id": "d8cd0fe3",
   "metadata": {},
   "outputs": [],
   "source": []
  }
 ],
 "metadata": {
  "kernelspec": {
   "display_name": "Python 3",
   "language": "python",
   "name": "python3"
  },
  "language_info": {
   "codemirror_mode": {
    "name": "ipython",
    "version": 3
   },
   "file_extension": ".py",
   "mimetype": "text/x-python",
   "name": "python",
   "nbconvert_exporter": "python",
   "pygments_lexer": "ipython3",
   "version": "3.8.8"
  }
 },
 "nbformat": 4,
 "nbformat_minor": 5
}
