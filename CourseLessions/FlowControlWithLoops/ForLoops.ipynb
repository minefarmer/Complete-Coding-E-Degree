{
 "cells": [
  {
   "cell_type": "markdown",
   "id": "c358c5b1",
   "metadata": {},
   "source": [
    "For loops are commonly used when iterating through a sequene of items, such as a string list\n",
    "Think of iterating as moving through a sequence one 'step' at a time\n",
    "General syntax & logic can be thought of as:\n",
    "    For each item in list\n",
    "    Do this"
   ]
  },
  {
   "cell_type": "code",
   "execution_count": 2,
   "id": "427b305c",
   "metadata": {},
   "outputs": [
    {
     "name": "stdout",
     "output_type": "stream",
     "text": [
      "Our summation is... 15\n"
     ]
    }
   ],
   "source": [
    "# list of some numbers\n",
    "list1 = [1,2,3,4,5]\n",
    "\n",
    "summed_list = 0\n",
    "\n",
    "for x in list1:\n",
    "    summed_list = summed_list+x\n",
    "\n",
    "print(\"Our summation is...\", summed_list)"
   ]
  },
  {
   "cell_type": "code",
   "execution_count": 3,
   "id": "9ce4d3dd",
   "metadata": {},
   "outputs": [
    {
     "name": "stdout",
     "output_type": "stream",
     "text": [
      "Profits after taxes are: 1203.75\n"
     ]
    }
   ],
   "source": [
    "# list of some numbers\n",
    "list1 = [100,200,300,400,5]\n",
    "\n",
    "summed_list = 450\n",
    "\n",
    "for x in list1:\n",
    "    summed_list = summed_list+ 0.75*x\n",
    "\n",
    "print(\"Profits after taxes are:\", summed_list)"
   ]
  },
  {
   "cell_type": "code",
   "execution_count": null,
   "id": "924cc41c",
   "metadata": {},
   "outputs": [],
   "source": []
  }
 ],
 "metadata": {
  "kernelspec": {
   "display_name": "Python 3",
   "language": "python",
   "name": "python3"
  },
  "language_info": {
   "codemirror_mode": {
    "name": "ipython",
    "version": 3
   },
   "file_extension": ".py",
   "mimetype": "text/x-python",
   "name": "python",
   "nbconvert_exporter": "python",
   "pygments_lexer": "ipython3",
   "version": "3.8.8"
  }
 },
 "nbformat": 4,
 "nbformat_minor": 5
}
