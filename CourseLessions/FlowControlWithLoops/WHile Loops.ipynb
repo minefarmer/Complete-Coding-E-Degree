{
 "cells": [
  {
   "cell_type": "markdown",
   "id": "c7e8fd61",
   "metadata": {},
   "source": [
    "while loops"
   ]
  },
  {
   "cell_type": "code",
   "execution_count": 1,
   "id": "f0ccbbb5",
   "metadata": {},
   "outputs": [],
   "source": [
    "# while loops are similair to for loops in that they are used to iterate\n",
    "# However instead of working with sequenced items such as lists, while loops iterate over blocks of code\n",
    "# General syntax & logic can be thought of as:\n",
    "    # While this remains true\n",
    "    # Keep doing that"
   ]
  },
  {
   "cell_type": "code",
   "execution_count": 2,
   "id": "942c578d",
   "metadata": {},
   "outputs": [
    {
     "name": "stdout",
     "output_type": "stream",
     "text": [
      "Enter your N value here! 5\n",
      "Our summation is equal to 15\n"
     ]
    }
   ],
   "source": [
    "# sum the number 1 thru N\n",
    "\n",
    "N = int(input(\"Enter your N value here! \"))\n",
    "\n",
    "summation = 0\n",
    "j = 1\n",
    "\n",
    "while j <= N:\n",
    "    summation = summation + j\n",
    "    j = j + 1\n",
    "    \n",
    "print(\"Our summation is equal to\", summation)"
   ]
  },
  {
   "cell_type": "code",
   "execution_count": 4,
   "id": "b77c4595",
   "metadata": {},
   "outputs": [
    {
     "name": "stdout",
     "output_type": "stream",
     "text": [
      "Enter your N value here! -8\n",
      "Our summation is equal to 0\n"
     ]
    }
   ],
   "source": [
    "# sum the number 1 thru N\n",
    "\n",
    "N = int(input(\"Enter your N value here! \"))\n",
    "\n",
    "summation = 0\n",
    "j = 1\n",
    "\n",
    "while j <= N:\n",
    "    summation = summation + j\n",
    "    j = j + 1\n",
    "    \n",
    "print(\"Our summation is equal to\", summation)"
   ]
  },
  {
   "cell_type": "code",
   "execution_count": 5,
   "id": "1c0829d8",
   "metadata": {},
   "outputs": [
    {
     "name": "stdout",
     "output_type": "stream",
     "text": [
      "Enter your N value here! 0\n",
      "Our summation is equal to 0\n"
     ]
    }
   ],
   "source": [
    "# sum the number 1 thru N\n",
    "\n",
    "N = int(input(\"Enter your N value here! \"))\n",
    "\n",
    "summation = 0\n",
    "j = 1\n",
    "\n",
    "while j <= N:\n",
    "    summation = summation + j\n",
    "    j = j + 1\n",
    "    \n",
    "print(\"Our summation is equal to\", summation)"
   ]
  },
  {
   "cell_type": "code",
   "execution_count": 6,
   "id": "1483678e",
   "metadata": {},
   "outputs": [
    {
     "name": "stdout",
     "output_type": "stream",
     "text": [
      "Enter your N value here! 54\n",
      "Our summation is equal to 1485\n"
     ]
    }
   ],
   "source": [
    "# sum the number 1 thru N\n",
    "\n",
    "N = int(input(\"Enter your N value here! \"))\n",
    "\n",
    "summation = 0\n",
    "j = 1\n",
    "\n",
    "while j <= N:\n",
    "    summation = summation + j\n",
    "    j = j + 1\n",
    "    \n",
    "print(\"Our summation is equal to\", summation)"
   ]
  },
  {
   "cell_type": "code",
   "execution_count": 7,
   "id": "8bda0c47",
   "metadata": {},
   "outputs": [
    {
     "name": "stdout",
     "output_type": "stream",
     "text": [
      "interior loop value\n",
      "interior loop value\n",
      "interior loop value\n",
      "interior loop value\n",
      "interior loop value\n",
      "Exterior loop value\n"
     ]
    }
   ],
   "source": [
    "counter = 0\n",
    "\n",
    "while counter < 5:\n",
    "    print(\"interior loop value\")\n",
    "    counter = counter + 1\n",
    "else:\n",
    "    print(\"Exterior loop value\")\n",
    "    "
   ]
  },
  {
   "cell_type": "code",
   "execution_count": 8,
   "id": "0a62b9b4",
   "metadata": {},
   "outputs": [
    {
     "name": "stdout",
     "output_type": "stream",
     "text": [
      "interior loop value\n",
      "interior loop value\n",
      "interior loop value\n",
      "interior loop value\n",
      "Exterior loop value\n"
     ]
    }
   ],
   "source": [
    "counter = 1\n",
    "\n",
    "while counter < 5:\n",
    "    print(\"interior loop value\")\n",
    "    counter = counter + 1\n",
    "else:\n",
    "    print(\"Exterior loop value\")"
   ]
  },
  {
   "cell_type": "code",
   "execution_count": null,
   "id": "037359fa",
   "metadata": {},
   "outputs": [],
   "source": []
  }
 ],
 "metadata": {
  "kernelspec": {
   "display_name": "Python 3",
   "language": "python",
   "name": "python3"
  },
  "language_info": {
   "codemirror_mode": {
    "name": "ipython",
    "version": 3
   },
   "file_extension": ".py",
   "mimetype": "text/x-python",
   "name": "python",
   "nbconvert_exporter": "python",
   "pygments_lexer": "ipython3",
   "version": "3.8.8"
  }
 },
 "nbformat": 4,
 "nbformat_minor": 5
}
