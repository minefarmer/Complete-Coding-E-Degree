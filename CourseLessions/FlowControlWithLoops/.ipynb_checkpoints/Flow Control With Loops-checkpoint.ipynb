{
 "cells": [
  {
   "cell_type": "code",
   "execution_count": 2,
   "id": "ac60fc54",
   "metadata": {},
   "outputs": [],
   "source": [
    "# Focus of this section is on controlling the flow of my data and coding with loops\n",
    "\n",
    "# If and else statements are key and our introduction into logical programming\n",
    "\n",
    "# If something is TRUE\n",
    "#     Then complete option A\n",
    "# Else (aka it's FALSE)\n",
    "#     Then complete option B\n",
    "\n",
    "# These can be nested as well for more complex applications"
   ]
  },
  {
   "cell_type": "code",
   "execution_count": 3,
   "id": "be8650f5",
   "metadata": {},
   "outputs": [
    {
     "name": "stdout",
     "output_type": "stream",
     "text": [
      "Positive Number\n"
     ]
    }
   ],
   "source": [
    "# printing characteristics of a number\n",
    "# terminating if a number is positive or negative\n",
    "\n",
    "number = 7\n",
    "\n",
    "if number >= 0:\n",
    "    print(\"Positive Number\")\n",
    "else:\n",
    "    print(\"Negative number\")\n",
    "    "
   ]
  },
  {
   "cell_type": "code",
   "execution_count": 4,
   "id": "8ded55d0",
   "metadata": {},
   "outputs": [
    {
     "name": "stdout",
     "output_type": "stream",
     "text": [
      "Negative number\n"
     ]
    }
   ],
   "source": [
    "number = -4\n",
    "\n",
    "if number >= 0:\n",
    "    print(\"Positive Number\")\n",
    "else:\n",
    "    print(\"Negative number\")"
   ]
  },
  {
   "cell_type": "code",
   "execution_count": 5,
   "id": "c277f175",
   "metadata": {},
   "outputs": [
    {
     "name": "stdout",
     "output_type": "stream",
     "text": [
      "What's your number?3.258\n",
      "Positive Number\n"
     ]
    }
   ],
   "source": [
    "number = float(input(\"What's your number?\"))\n",
    "\n",
    "if number >= 0:\n",
    "    print(\"Positive Number\")\n",
    "else:\n",
    "    print(\"Negative number\")"
   ]
  },
  {
   "cell_type": "code",
   "execution_count": 6,
   "id": "f49e5e93",
   "metadata": {},
   "outputs": [
    {
     "name": "stdout",
     "output_type": "stream",
     "text": [
      "What's your number?0\n",
      "Positive Number\n"
     ]
    }
   ],
   "source": [
    "number = float(input(\"What's your number?\"))\n",
    "\n",
    "if number >= 0:\n",
    "    print(\"Positive Number\")\n",
    "else:\n",
    "    print(\"Negative number\")"
   ]
  },
  {
   "cell_type": "code",
   "execution_count": 7,
   "id": "0c65885c",
   "metadata": {},
   "outputs": [
    {
     "name": "stdout",
     "output_type": "stream",
     "text": [
      "What's your number?-9.5\n",
      "Negative number\n"
     ]
    }
   ],
   "source": [
    "number = float(input(\"What's your number?\"))\n",
    "\n",
    "if number >= 0:\n",
    "    print(\"Positive Number\")\n",
    "else:\n",
    "    print(\"Negative number\")"
   ]
  },
  {
   "cell_type": "code",
   "execution_count": 11,
   "id": "0fe9984f",
   "metadata": {},
   "outputs": [
    {
     "name": "stdout",
     "output_type": "stream",
     "text": [
      "What's your number?-8\n",
      "Negative number\n"
     ]
    }
   ],
   "source": [
    "number = float(input(\"What's your number?\"))\n",
    "\n",
    "if number >= 0:\n",
    "    squared = number**2\n",
    "    print(squared)\n",
    "else:\n",
    "    print(\"Negative number\")"
   ]
  },
  {
   "cell_type": "code",
   "execution_count": 12,
   "id": "fabca54c",
   "metadata": {},
   "outputs": [
    {
     "name": "stdout",
     "output_type": "stream",
     "text": [
      "What's your number?4\n",
      "16.0\n"
     ]
    }
   ],
   "source": [
    "number = float(input(\"What's your number?\"))\n",
    "\n",
    "if number >= 0:\n",
    "    squared = number**2\n",
    "    print(squared)\n",
    "else:\n",
    "    print(\"Negative number\")"
   ]
  },
  {
   "cell_type": "code",
   "execution_count": null,
   "id": "37053f9b",
   "metadata": {},
   "outputs": [],
   "source": []
  }
 ],
 "metadata": {
  "kernelspec": {
   "display_name": "Python 3",
   "language": "python",
   "name": "python3"
  },
  "language_info": {
   "codemirror_mode": {
    "name": "ipython",
    "version": 3
   },
   "file_extension": ".py",
   "mimetype": "text/x-python",
   "name": "python",
   "nbconvert_exporter": "python",
   "pygments_lexer": "ipython3",
   "version": "3.8.8"
  }
 },
 "nbformat": 4,
 "nbformat_minor": 5
}
