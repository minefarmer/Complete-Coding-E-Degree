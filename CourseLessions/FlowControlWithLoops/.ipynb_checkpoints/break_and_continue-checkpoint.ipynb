{
 "cells": [
  {
   "cell_type": "markdown",
   "id": "f9689732",
   "metadata": {},
   "source": [
    "Breaks and Continues"
   ]
  },
  {
   "cell_type": "markdown",
   "id": "9aa8c85a",
   "metadata": {},
   "source": [
    "These types of statements are great for build exceptions into the logic of the other loop's I've learned.\n",
    "\n",
    "For example, we might want to search a list of names. while skipping over our own.\n",
    "\n",
    "Break is used to stop a loop when that condition occurs."
   ]
  },
  {
   "cell_type": "markdown",
   "id": "48ace420",
   "metadata": {},
   "source": [
    "Continue can be thought of as skipping over an entry when a given condition occurs."
   ]
  },
  {
   "cell_type": "code",
   "execution_count": 2,
   "id": "8e5c8934",
   "metadata": {},
   "outputs": [
    {
     "name": "stdout",
     "output_type": "stream",
     "text": [
      "t\n",
      "this ends our program\n"
     ]
    }
   ],
   "source": [
    "for x in \"this string here\":\n",
    "    if x == \"h\":\n",
    "        break\n",
    "    print(x)\n",
    "\n",
    "print(\"this ends our program\")"
   ]
  },
  {
   "cell_type": "code",
   "execution_count": 3,
   "id": "862d4798",
   "metadata": {},
   "outputs": [
    {
     "name": "stdout",
     "output_type": "stream",
     "text": [
      "t\n",
      "i\n",
      "s\n",
      " \n",
      "s\n",
      "t\n",
      "r\n",
      "i\n",
      "n\n",
      "g\n",
      " \n",
      "e\n",
      "r\n",
      "e\n",
      "this ends our program\n"
     ]
    }
   ],
   "source": [
    "for x in \"this string here\":\n",
    "    if x == \"h\":\n",
    "        continue\n",
    "    print(x)\n",
    "\n",
    "print(\"this ends our program\")"
   ]
  },
  {
   "cell_type": "code",
   "execution_count": null,
   "id": "3dc29204",
   "metadata": {},
   "outputs": [],
   "source": []
  }
 ],
 "metadata": {
  "kernelspec": {
   "display_name": "Python 3",
   "language": "python",
   "name": "python3"
  },
  "language_info": {
   "codemirror_mode": {
    "name": "ipython",
    "version": 3
   },
   "file_extension": ".py",
   "mimetype": "text/x-python",
   "name": "python",
   "nbconvert_exporter": "python",
   "pygments_lexer": "ipython3",
   "version": "3.8.8"
  }
 },
 "nbformat": 4,
 "nbformat_minor": 5
}
