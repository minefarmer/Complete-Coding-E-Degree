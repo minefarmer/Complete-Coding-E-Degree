{
 "cells": [
  {
   "cell_type": "markdown",
   "id": "08b580dc",
   "metadata": {},
   "source": [
    "Advanced Files operations"
   ]
  },
  {
   "cell_type": "markdown",
   "id": "6580871f",
   "metadata": {},
   "source": [
    "In this section we'll use an optimized and ideal method of working with files."
   ]
  },
  {
   "cell_type": "code",
   "execution_count": 1,
   "id": "7c21dd1f",
   "metadata": {},
   "outputs": [
    {
     "name": "stdout",
     "output_type": "stream",
     "text": [
      "Overwriting new.txt\n"
     ]
    }
   ],
   "source": [
    "%%writefile new.txt\n",
    "This is a text file\n",
    "here is anouther line\n",
    "more information here"
   ]
  },
  {
   "cell_type": "code",
   "execution_count": 2,
   "id": "56881291",
   "metadata": {},
   "outputs": [
    {
     "name": "stdout",
     "output_type": "stream",
     "text": [
      "Writing newer.txt\n"
     ]
    }
   ],
   "source": [
    "%%writefile newer.txt\n",
    "This is a text file\n",
    "here is anouther line\n",
    "more information here"
   ]
  },
  {
   "cell_type": "code",
   "execution_count": 6,
   "id": "23898f3a",
   "metadata": {},
   "outputs": [],
   "source": [
    "# r = read, w = write, a = append, r+ = read and write.\n",
    "with open(\"newer.txt\") as new_file:\n",
    "    this = new_file.readlines()"
   ]
  },
  {
   "cell_type": "code",
   "execution_count": 5,
   "id": "ffde4dbd",
   "metadata": {},
   "outputs": [
    {
     "data": {
      "text/plain": [
       "['This is a text file\\n', 'here is anouther line\\n', 'more information here\\n']"
      ]
     },
     "execution_count": 5,
     "metadata": {},
     "output_type": "execute_result"
    }
   ],
   "source": [
    "this"
   ]
  },
  {
   "cell_type": "code",
   "execution_count": 7,
   "id": "5fd68f27",
   "metadata": {},
   "outputs": [],
   "source": [
    "with open(\"newest.txt\", mode =\"w\") as newest:\n",
    "    newest.write(\"BRAND NEW FILE\")"
   ]
  },
  {
   "cell_type": "code",
   "execution_count": null,
   "id": "fcf7983b",
   "metadata": {},
   "outputs": [],
   "source": []
  }
 ],
 "metadata": {
  "kernelspec": {
   "display_name": "Python 3",
   "language": "python",
   "name": "python3"
  },
  "language_info": {
   "codemirror_mode": {
    "name": "ipython",
    "version": 3
   },
   "file_extension": ".py",
   "mimetype": "text/x-python",
   "name": "python",
   "nbconvert_exporter": "python",
   "pygments_lexer": "ipython3",
   "version": "3.8.8"
  }
 },
 "nbformat": 4,
 "nbformat_minor": 5
}
