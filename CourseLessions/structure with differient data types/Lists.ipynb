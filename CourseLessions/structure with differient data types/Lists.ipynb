{
 "cells": [
  {
   "cell_type": "markdown",
   "id": "70215625",
   "metadata": {},
   "source": [
    "Lists  Section 4.2"
   ]
  },
  {
   "cell_type": "markdown",
   "id": "6d9921b7",
   "metadata": {},
   "source": [
    "Lists are created by placing all the items/elements in a sequence inside the square brackets[], separates by commas.\n",
    "It can have any number of items and they may be of differient types:\n",
    "    Integers.\n",
    "    Floats.\n",
    "    Strings.\n",
    "    And more!\n",
    "Great for building up data frames, an advanced data storage option we'll use later on."
   ]
  },
  {
   "cell_type": "code",
   "execution_count": 1,
   "id": "75048de6",
   "metadata": {},
   "outputs": [],
   "source": [
    "list_1 = [0,1,2,3]"
   ]
  },
  {
   "cell_type": "code",
   "execution_count": 2,
   "id": "4b6ba2c4",
   "metadata": {},
   "outputs": [],
   "source": [
    "list_2 = [\"cat\", \"dog\", \"fish\", \"frog\"]"
   ]
  },
  {
   "cell_type": "code",
   "execution_count": 3,
   "id": "a1b1b6d0",
   "metadata": {},
   "outputs": [
    {
     "data": {
      "text/plain": [
       "'dog'"
      ]
     },
     "execution_count": 3,
     "metadata": {},
     "output_type": "execute_result"
    }
   ],
   "source": [
    "list_2[1]"
   ]
  },
  {
   "cell_type": "code",
   "execution_count": 4,
   "id": "81748b2d",
   "metadata": {},
   "outputs": [
    {
     "data": {
      "text/plain": [
       "'frog'"
      ]
     },
     "execution_count": 4,
     "metadata": {},
     "output_type": "execute_result"
    }
   ],
   "source": [
    "list_2[-1]"
   ]
  },
  {
   "cell_type": "code",
   "execution_count": 5,
   "id": "3ca09363",
   "metadata": {},
   "outputs": [],
   "source": [
    "list_3 = list_1+list_2"
   ]
  },
  {
   "cell_type": "code",
   "execution_count": 6,
   "id": "80367646",
   "metadata": {},
   "outputs": [
    {
     "data": {
      "text/plain": [
       "[0, 1, 2, 3, 'cat', 'dog', 'fish', 'frog']"
      ]
     },
     "execution_count": 6,
     "metadata": {},
     "output_type": "execute_result"
    }
   ],
   "source": [
    "list_3"
   ]
  },
  {
   "cell_type": "code",
   "execution_count": 7,
   "id": "78e0cdb2",
   "metadata": {},
   "outputs": [],
   "source": [
    "list_3[1]=\"ZERO\""
   ]
  },
  {
   "cell_type": "code",
   "execution_count": 8,
   "id": "fc6e198d",
   "metadata": {},
   "outputs": [
    {
     "data": {
      "text/plain": [
       "[0, 'ZERO', 2, 3, 'cat', 'dog', 'fish', 'frog']"
      ]
     },
     "execution_count": 8,
     "metadata": {},
     "output_type": "execute_result"
    }
   ],
   "source": [
    "list_3"
   ]
  },
  {
   "cell_type": "code",
   "execution_count": 9,
   "id": "6dd424f6",
   "metadata": {},
   "outputs": [],
   "source": [
    "list_3[-1]=\"FROG\""
   ]
  },
  {
   "cell_type": "code",
   "execution_count": 10,
   "id": "b39b1554",
   "metadata": {},
   "outputs": [
    {
     "data": {
      "text/plain": [
       "[0, 'ZERO', 2, 3, 'cat', 'dog', 'fish', 'FROG']"
      ]
     },
     "execution_count": 10,
     "metadata": {},
     "output_type": "execute_result"
    }
   ],
   "source": [
    "list_3"
   ]
  },
  {
   "cell_type": "code",
   "execution_count": 11,
   "id": "500f05e9",
   "metadata": {},
   "outputs": [],
   "source": [
    "list_1.sort(reverse=False)"
   ]
  },
  {
   "cell_type": "code",
   "execution_count": 12,
   "id": "fb03cf25",
   "metadata": {},
   "outputs": [
    {
     "ename": "TypeError",
     "evalue": "'<' not supported between instances of 'int' and 'str'",
     "output_type": "error",
     "traceback": [
      "\u001b[0;31m---------------------------------------------------------------------------\u001b[0m",
      "\u001b[0;31mTypeError\u001b[0m                                 Traceback (most recent call last)",
      "\u001b[0;32m<ipython-input-12-a777ecb360da>\u001b[0m in \u001b[0;36m<module>\u001b[0;34m\u001b[0m\n\u001b[0;32m----> 1\u001b[0;31m \u001b[0mlist_3\u001b[0m\u001b[0;34m.\u001b[0m\u001b[0msort\u001b[0m\u001b[0;34m(\u001b[0m\u001b[0mreverse\u001b[0m\u001b[0;34m=\u001b[0m\u001b[0;32mTrue\u001b[0m\u001b[0;34m)\u001b[0m\u001b[0;34m\u001b[0m\u001b[0;34m\u001b[0m\u001b[0m\n\u001b[0m",
      "\u001b[0;31mTypeError\u001b[0m: '<' not supported between instances of 'int' and 'str'"
     ]
    }
   ],
   "source": [
    "list_3.sort(reverse=True)"
   ]
  },
  {
   "cell_type": "code",
   "execution_count": 15,
   "id": "dd4bbfcb",
   "metadata": {},
   "outputs": [],
   "source": [
    "new_list = [\"a\", \"b\",\"c\",\"d\",\"e\",\"f\"]"
   ]
  },
  {
   "cell_type": "code",
   "execution_count": 19,
   "id": "1a2394a1",
   "metadata": {},
   "outputs": [
    {
     "data": {
      "text/plain": [
       "['a', 'b']"
      ]
     },
     "execution_count": 19,
     "metadata": {},
     "output_type": "execute_result"
    }
   ],
   "source": [
    "# [a:] a is included as the first element, and we slice everything after b\n",
    "new_list[0:2]"
   ]
  },
  {
   "cell_type": "code",
   "execution_count": 20,
   "id": "8d85246f",
   "metadata": {},
   "outputs": [
    {
     "data": {
      "text/plain": [
       "['c', 'd', 'e', 'f']"
      ]
     },
     "execution_count": 20,
     "metadata": {},
     "output_type": "execute_result"
    }
   ],
   "source": [
    "new_list[2:]"
   ]
  },
  {
   "cell_type": "code",
   "execution_count": null,
   "id": "184e2d19",
   "metadata": {},
   "outputs": [],
   "source": []
  }
 ],
 "metadata": {
  "kernelspec": {
   "display_name": "Python 3",
   "language": "python",
   "name": "python3"
  },
  "language_info": {
   "codemirror_mode": {
    "name": "ipython",
    "version": 3
   },
   "file_extension": ".py",
   "mimetype": "text/x-python",
   "name": "python",
   "nbconvert_exporter": "python",
   "pygments_lexer": "ipython3",
   "version": "3.8.8"
  }
 },
 "nbformat": 4,
 "nbformat_minor": 5
}
