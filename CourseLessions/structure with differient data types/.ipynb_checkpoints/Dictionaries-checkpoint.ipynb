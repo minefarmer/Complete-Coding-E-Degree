{
 "cells": [
  {
   "cell_type": "markdown",
   "id": "574c8832",
   "metadata": {},
   "source": [
    "Dictionaries  Section 4.6"
   ]
  },
  {
   "cell_type": "markdown",
   "id": "73888fa3",
   "metadata": {},
   "source": [
    "Dictionaries are unordered collections of items.\n",
    "Each item within a dictionary is defined with a key & value pair.\n",
    "They are optimized to retriev values when the key is known."
   ]
  },
  {
   "cell_type": "code",
   "execution_count": 1,
   "id": "8ddc5a6c",
   "metadata": {},
   "outputs": [],
   "source": [
    "#(\"key1\":\"value1\", \"key2\":5)"
   ]
  },
  {
   "cell_type": "code",
   "execution_count": 2,
   "id": "b99f1e8d",
   "metadata": {},
   "outputs": [],
   "source": [
    "my_dict = {\"k1\":\"cat\",\"k2\":5}"
   ]
  },
  {
   "cell_type": "code",
   "execution_count": 3,
   "id": "1be363cd",
   "metadata": {},
   "outputs": [
    {
     "ename": "KeyError",
     "evalue": "0",
     "output_type": "error",
     "traceback": [
      "\u001b[0;31m---------------------------------------------------------------------------\u001b[0m",
      "\u001b[0;31mKeyError\u001b[0m                                  Traceback (most recent call last)",
      "\u001b[0;32m<ipython-input-3-2e042f7087f7>\u001b[0m in \u001b[0;36m<module>\u001b[0;34m\u001b[0m\n\u001b[0;32m----> 1\u001b[0;31m \u001b[0mmy_dict\u001b[0m\u001b[0;34m[\u001b[0m\u001b[0;36m0\u001b[0m\u001b[0;34m]\u001b[0m\u001b[0;34m\u001b[0m\u001b[0;34m\u001b[0m\u001b[0m\n\u001b[0m",
      "\u001b[0;31mKeyError\u001b[0m: 0"
     ]
    }
   ],
   "source": [
    "my_dict[0]"
   ]
  },
  {
   "cell_type": "code",
   "execution_count": 5,
   "id": "74ef67f9",
   "metadata": {},
   "outputs": [
    {
     "data": {
      "text/plain": [
       "'cat'"
      ]
     },
     "execution_count": 5,
     "metadata": {},
     "output_type": "execute_result"
    }
   ],
   "source": [
    "my_dict[\"k1\"]"
   ]
  },
  {
   "cell_type": "code",
   "execution_count": 6,
   "id": "14a78fc9",
   "metadata": {},
   "outputs": [],
   "source": [
    "my_dict = {\"John\":500,\"Sara\":800}"
   ]
  },
  {
   "cell_type": "code",
   "execution_count": 7,
   "id": "9188565b",
   "metadata": {},
   "outputs": [
    {
     "ename": "NameError",
     "evalue": "name 'k1' is not defined",
     "output_type": "error",
     "traceback": [
      "\u001b[0;31m---------------------------------------------------------------------------\u001b[0m",
      "\u001b[0;31mNameError\u001b[0m                                 Traceback (most recent call last)",
      "\u001b[0;32m<ipython-input-7-8614d2141c64>\u001b[0m in \u001b[0;36m<module>\u001b[0;34m\u001b[0m\n\u001b[0;32m----> 1\u001b[0;31m \u001b[0mmy_dict\u001b[0m\u001b[0;34m[\u001b[0m\u001b[0mk1\u001b[0m\u001b[0;34m]\u001b[0m\u001b[0;34m\u001b[0m\u001b[0;34m\u001b[0m\u001b[0m\n\u001b[0m",
      "\u001b[0;31mNameError\u001b[0m: name 'k1' is not defined"
     ]
    }
   ],
   "source": [
    "my_dict[k1]"
   ]
  },
  {
   "cell_type": "code",
   "execution_count": 8,
   "id": "bc84d91c",
   "metadata": {},
   "outputs": [
    {
     "data": {
      "text/plain": [
       "800"
      ]
     },
     "execution_count": 8,
     "metadata": {},
     "output_type": "execute_result"
    }
   ],
   "source": [
    "my_dict[\"Sara\"]"
   ]
  },
  {
   "cell_type": "code",
   "execution_count": 9,
   "id": "cfde45f6",
   "metadata": {},
   "outputs": [],
   "source": [
    "adv = {\"k1\": 75, \"k2\":\"dog\", \"k3\":[0,1,2], \"k4\":{\"inner\":\"wow!\"}}"
   ]
  },
  {
   "cell_type": "code",
   "execution_count": 10,
   "id": "b994c876",
   "metadata": {},
   "outputs": [
    {
     "data": {
      "text/plain": [
       "[0, 1, 2]"
      ]
     },
     "execution_count": 10,
     "metadata": {},
     "output_type": "execute_result"
    }
   ],
   "source": [
    "adv[\"k3\"]"
   ]
  },
  {
   "cell_type": "code",
   "execution_count": 11,
   "id": "fe2739b2",
   "metadata": {},
   "outputs": [
    {
     "data": {
      "text/plain": [
       "2"
      ]
     },
     "execution_count": 11,
     "metadata": {},
     "output_type": "execute_result"
    }
   ],
   "source": [
    "adv [\"k3\"][-1]"
   ]
  },
  {
   "cell_type": "code",
   "execution_count": null,
   "id": "7f9ab505",
   "metadata": {},
   "outputs": [],
   "source": []
  }
 ],
 "metadata": {
  "kernelspec": {
   "display_name": "Python 3",
   "language": "python",
   "name": "python3"
  },
  "language_info": {
   "codemirror_mode": {
    "name": "ipython",
    "version": 3
   },
   "file_extension": ".py",
   "mimetype": "text/x-python",
   "name": "python",
   "nbconvert_exporter": "python",
   "pygments_lexer": "ipython3",
   "version": "3.8.8"
  }
 },
 "nbformat": 4,
 "nbformat_minor": 5
}
