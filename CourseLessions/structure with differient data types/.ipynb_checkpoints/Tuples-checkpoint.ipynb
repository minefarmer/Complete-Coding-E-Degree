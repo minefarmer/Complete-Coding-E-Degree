{
 "cells": [
  {
   "cell_type": "markdown",
   "id": "b014cbac",
   "metadata": {},
   "source": [
    "Tuples  Section 4.3"
   ]
  },
  {
   "cell_type": "markdown",
   "id": "f70d7e0a",
   "metadata": {},
   "source": [
    "Tuples are similiar to lists.\n",
    "Tuples are immutable, I cannot change the elements of a tuple once it has been assigned.\n"
   ]
  },
  {
   "cell_type": "code",
   "execution_count": 4,
   "id": "2954b9ab",
   "metadata": {},
   "outputs": [],
   "source": [
    "tup_1=(1,2,3)"
   ]
  },
  {
   "cell_type": "code",
   "execution_count": 5,
   "id": "8fe7fe6a",
   "metadata": {},
   "outputs": [
    {
     "data": {
      "text/plain": [
       "tuple"
      ]
     },
     "execution_count": 5,
     "metadata": {},
     "output_type": "execute_result"
    }
   ],
   "source": [
    "type(tup_1)"
   ]
  },
  {
   "cell_type": "code",
   "execution_count": 7,
   "id": "39d29066",
   "metadata": {},
   "outputs": [],
   "source": [
    "tup_2=(\"one\",\"two\",\"three\")"
   ]
  },
  {
   "cell_type": "code",
   "execution_count": 8,
   "id": "6023fd40",
   "metadata": {},
   "outputs": [
    {
     "data": {
      "text/plain": [
       "('one', 'two', 'three')"
      ]
     },
     "execution_count": 8,
     "metadata": {},
     "output_type": "execute_result"
    }
   ],
   "source": [
    "tup_2"
   ]
  },
  {
   "cell_type": "code",
   "execution_count": 9,
   "id": "b6c7b4c4",
   "metadata": {},
   "outputs": [
    {
     "data": {
      "text/plain": [
       "tuple"
      ]
     },
     "execution_count": 9,
     "metadata": {},
     "output_type": "execute_result"
    }
   ],
   "source": [
    "type(tup_2)"
   ]
  },
  {
   "cell_type": "code",
   "execution_count": 10,
   "id": "66dedbbc",
   "metadata": {},
   "outputs": [
    {
     "data": {
      "text/plain": [
       "1"
      ]
     },
     "execution_count": 10,
     "metadata": {},
     "output_type": "execute_result"
    }
   ],
   "source": [
    "tup_1[0]"
   ]
  },
  {
   "cell_type": "code",
   "execution_count": 11,
   "id": "632fefb4",
   "metadata": {},
   "outputs": [
    {
     "data": {
      "text/plain": [
       "3"
      ]
     },
     "execution_count": 11,
     "metadata": {},
     "output_type": "execute_result"
    }
   ],
   "source": [
    "tup_1[-1]"
   ]
  },
  {
   "cell_type": "code",
   "execution_count": 12,
   "id": "ab23d94c",
   "metadata": {},
   "outputs": [
    {
     "data": {
      "text/plain": [
       "'three'"
      ]
     },
     "execution_count": 12,
     "metadata": {},
     "output_type": "execute_result"
    }
   ],
   "source": [
    "tup_2[2]"
   ]
  },
  {
   "cell_type": "code",
   "execution_count": 13,
   "id": "27a14800",
   "metadata": {},
   "outputs": [
    {
     "data": {
      "text/plain": [
       "3"
      ]
     },
     "execution_count": 13,
     "metadata": {},
     "output_type": "execute_result"
    }
   ],
   "source": [
    "len(tup_1)"
   ]
  },
  {
   "cell_type": "code",
   "execution_count": 14,
   "id": "b932dd82",
   "metadata": {},
   "outputs": [
    {
     "ename": "TypeError",
     "evalue": "'tuple' object does not support item assignment",
     "output_type": "error",
     "traceback": [
      "\u001b[0;31m---------------------------------------------------------------------------\u001b[0m",
      "\u001b[0;31mTypeError\u001b[0m                                 Traceback (most recent call last)",
      "\u001b[0;32m<ipython-input-14-38cf4c87f8fc>\u001b[0m in \u001b[0;36m<module>\u001b[0;34m\u001b[0m\n\u001b[0;32m----> 1\u001b[0;31m \u001b[0mtup_2\u001b[0m\u001b[0;34m[\u001b[0m\u001b[0;36m0\u001b[0m\u001b[0;34m]\u001b[0m\u001b[0;34m=\u001b[0m\u001b[0;34m\"One\"\u001b[0m\u001b[0;34m\u001b[0m\u001b[0;34m\u001b[0m\u001b[0m\n\u001b[0m",
      "\u001b[0;31mTypeError\u001b[0m: 'tuple' object does not support item assignment"
     ]
    }
   ],
   "source": [
    "tup_2[0]=\"One\""
   ]
  },
  {
   "cell_type": "code",
   "execution_count": null,
   "id": "98bc1b37",
   "metadata": {},
   "outputs": [],
   "source": []
  }
 ],
 "metadata": {
  "kernelspec": {
   "display_name": "Python 3",
   "language": "python",
   "name": "python3"
  },
  "language_info": {
   "codemirror_mode": {
    "name": "ipython",
    "version": 3
   },
   "file_extension": ".py",
   "mimetype": "text/x-python",
   "name": "python",
   "nbconvert_exporter": "python",
   "pygments_lexer": "ipython3",
   "version": "3.8.8"
  }
 },
 "nbformat": 4,
 "nbformat_minor": 5
}
