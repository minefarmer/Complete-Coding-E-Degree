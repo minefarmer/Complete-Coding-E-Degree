{
 "cells": [
  {
   "cell_type": "markdown",
   "id": "ed1b7db1",
   "metadata": {},
   "source": [
    "Strings  Section 4.4"
   ]
  },
  {
   "cell_type": "markdown",
   "id": "fc9c8819",
   "metadata": {},
   "source": [
    "Strings are a sequence of charactors'\n",
    "Could be letters as well as numbers, it's all about how we define them.\n",
    "    \"cat\"\n",
    "    'cat'\n",
    "    \"5 cats\"\n",
    "    \"This is a particularly long tring with over 20 characters!\"\n",
    "    "
   ]
  },
  {
   "cell_type": "code",
   "execution_count": 1,
   "id": "2f373d72",
   "metadata": {},
   "outputs": [],
   "source": [
    "this = \"my long string\""
   ]
  },
  {
   "cell_type": "code",
   "execution_count": 2,
   "id": "205e0127",
   "metadata": {},
   "outputs": [
    {
     "data": {
      "text/plain": [
       "str"
      ]
     },
     "execution_count": 2,
     "metadata": {},
     "output_type": "execute_result"
    }
   ],
   "source": [
    "type(this)"
   ]
  },
  {
   "cell_type": "code",
   "execution_count": 3,
   "id": "cfb8cc0f",
   "metadata": {},
   "outputs": [
    {
     "data": {
      "text/plain": [
       "'m'"
      ]
     },
     "execution_count": 3,
     "metadata": {},
     "output_type": "execute_result"
    }
   ],
   "source": [
    "this[0]"
   ]
  },
  {
   "cell_type": "code",
   "execution_count": 5,
   "id": "c99e90a1",
   "metadata": {},
   "outputs": [
    {
     "data": {
      "text/plain": [
       "'my lo'"
      ]
     },
     "execution_count": 5,
     "metadata": {},
     "output_type": "execute_result"
    }
   ],
   "source": [
    "this[0:5]"
   ]
  },
  {
   "cell_type": "code",
   "execution_count": 6,
   "id": "7743c499",
   "metadata": {},
   "outputs": [],
   "source": [
    "new = \"...ends here!\""
   ]
  },
  {
   "cell_type": "code",
   "execution_count": 7,
   "id": "23329bfd",
   "metadata": {},
   "outputs": [
    {
     "data": {
      "text/plain": [
       "str"
      ]
     },
     "execution_count": 7,
     "metadata": {},
     "output_type": "execute_result"
    }
   ],
   "source": [
    "type(new)"
   ]
  },
  {
   "cell_type": "code",
   "execution_count": 8,
   "id": "052c0e2b",
   "metadata": {},
   "outputs": [
    {
     "data": {
      "text/plain": [
       "'my long string...ends here!'"
      ]
     },
     "execution_count": 8,
     "metadata": {},
     "output_type": "execute_result"
    }
   ],
   "source": [
    "this+new"
   ]
  },
  {
   "cell_type": "code",
   "execution_count": 9,
   "id": "10e4b86e",
   "metadata": {},
   "outputs": [],
   "source": [
    "new_string=this+new"
   ]
  },
  {
   "cell_type": "code",
   "execution_count": 10,
   "id": "3f01eb8d",
   "metadata": {},
   "outputs": [
    {
     "data": {
      "text/plain": [
       "'my long string...ends here!'"
      ]
     },
     "execution_count": 10,
     "metadata": {},
     "output_type": "execute_result"
    }
   ],
   "source": [
    "new_string"
   ]
  },
  {
   "cell_type": "code",
   "execution_count": 11,
   "id": "6e1c4a6a",
   "metadata": {},
   "outputs": [
    {
     "name": "stdout",
     "output_type": "stream",
     "text": [
      "my long string...ends here!my long string...ends here!\n"
     ]
    }
   ],
   "source": [
    "print(new_string*2)"
   ]
  },
  {
   "cell_type": "code",
   "execution_count": 12,
   "id": "a8e93eee",
   "metadata": {},
   "outputs": [
    {
     "name": "stdout",
     "output_type": "stream",
     "text": [
      "3 n's found in string.\n"
     ]
    }
   ],
   "source": [
    "count = 0\n",
    "for letter in new_string:\n",
    "    if (letter == \"n\"):\n",
    "        count += 1   # count = count + 1\n",
    "print(count, \"n's found in string.\")"
   ]
  },
  {
   "cell_type": "code",
   "execution_count": 13,
   "id": "c67b7f53",
   "metadata": {},
   "outputs": [
    {
     "data": {
      "text/plain": [
       "27"
      ]
     },
     "execution_count": 13,
     "metadata": {},
     "output_type": "execute_result"
    }
   ],
   "source": [
    "len(new_string)"
   ]
  },
  {
   "cell_type": "code",
   "execution_count": null,
   "id": "dcd406c0",
   "metadata": {},
   "outputs": [],
   "source": []
  }
 ],
 "metadata": {
  "kernelspec": {
   "display_name": "Python 3",
   "language": "python",
   "name": "python3"
  },
  "language_info": {
   "codemirror_mode": {
    "name": "ipython",
    "version": 3
   },
   "file_extension": ".py",
   "mimetype": "text/x-python",
   "name": "python",
   "nbconvert_exporter": "python",
   "pygments_lexer": "ipython3",
   "version": "3.8.8"
  }
 },
 "nbformat": 4,
 "nbformat_minor": 5
}
