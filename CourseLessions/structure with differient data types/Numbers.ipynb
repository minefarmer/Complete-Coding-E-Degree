{
 "cells": [
  {
   "cell_type": "markdown",
   "id": "6a480564",
   "metadata": {},
   "source": [
    "Numbers   Section 4.1"
   ]
  },
  {
   "cell_type": "markdown",
   "id": "9f4b48d3",
   "metadata": {},
   "source": [
    "In this section we'll be focusing on better understanding the differient standard python types.\n",
    "Worhing with numbers is the backbone of many fields that utilize python such as:\n",
    "    Data analysts\n",
    "    Data scientists\n",
    "    Financial analysts"
   ]
  },
  {
   "cell_type": "code",
   "execution_count": 1,
   "id": "e2805576",
   "metadata": {},
   "outputs": [],
   "source": [
    "from fractions import Fraction as F"
   ]
  },
  {
   "cell_type": "code",
   "execution_count": 2,
   "id": "77613fed",
   "metadata": {},
   "outputs": [
    {
     "name": "stdout",
     "output_type": "stream",
     "text": [
      "1/3\n"
     ]
    }
   ],
   "source": [
    "print(F(1,3))"
   ]
  },
  {
   "cell_type": "code",
   "execution_count": 3,
   "id": "eda4cdad",
   "metadata": {},
   "outputs": [],
   "source": [
    "x=5.7"
   ]
  },
  {
   "cell_type": "code",
   "execution_count": 5,
   "id": "7712e5e5",
   "metadata": {},
   "outputs": [],
   "source": [
    "y=3"
   ]
  },
  {
   "cell_type": "code",
   "execution_count": 6,
   "id": "a921c4ca",
   "metadata": {},
   "outputs": [
    {
     "data": {
      "text/plain": [
       "float"
      ]
     },
     "execution_count": 6,
     "metadata": {},
     "output_type": "execute_result"
    }
   ],
   "source": [
    "type(x)"
   ]
  },
  {
   "cell_type": "code",
   "execution_count": 7,
   "id": "d1467ff2",
   "metadata": {},
   "outputs": [
    {
     "data": {
      "text/plain": [
       "int"
      ]
     },
     "execution_count": 7,
     "metadata": {},
     "output_type": "execute_result"
    }
   ],
   "source": [
    "type(y)"
   ]
  },
  {
   "cell_type": "code",
   "execution_count": 8,
   "id": "c9347fb7",
   "metadata": {},
   "outputs": [],
   "source": [
    "x=4/9"
   ]
  },
  {
   "cell_type": "code",
   "execution_count": 9,
   "id": "30051c92",
   "metadata": {},
   "outputs": [],
   "source": [
    "y=-3"
   ]
  },
  {
   "cell_type": "code",
   "execution_count": 10,
   "id": "84289fdc",
   "metadata": {},
   "outputs": [
    {
     "data": {
      "text/plain": [
       "float"
      ]
     },
     "execution_count": 10,
     "metadata": {},
     "output_type": "execute_result"
    }
   ],
   "source": [
    "type(x)"
   ]
  },
  {
   "cell_type": "code",
   "execution_count": 11,
   "id": "a98a651e",
   "metadata": {},
   "outputs": [
    {
     "data": {
      "text/plain": [
       "int"
      ]
     },
     "execution_count": 11,
     "metadata": {},
     "output_type": "execute_result"
    }
   ],
   "source": [
    "type(y)"
   ]
  },
  {
   "cell_type": "code",
   "execution_count": 12,
   "id": "6d3613ee",
   "metadata": {},
   "outputs": [
    {
     "data": {
      "text/plain": [
       "0.4444444444444444"
      ]
     },
     "execution_count": 12,
     "metadata": {},
     "output_type": "execute_result"
    }
   ],
   "source": [
    "x"
   ]
  },
  {
   "cell_type": "code",
   "execution_count": 13,
   "id": "feda3e5b",
   "metadata": {},
   "outputs": [
    {
     "data": {
      "text/plain": [
       "-2.5555555555555554"
      ]
     },
     "execution_count": 13,
     "metadata": {},
     "output_type": "execute_result"
    }
   ],
   "source": [
    "x+y"
   ]
  },
  {
   "cell_type": "code",
   "execution_count": 18,
   "id": "fa4a26ad",
   "metadata": {},
   "outputs": [],
   "source": [
    "z=x+y"
   ]
  },
  {
   "cell_type": "code",
   "execution_count": 15,
   "id": "cd0aced2",
   "metadata": {},
   "outputs": [
    {
     "data": {
      "text/plain": [
       "-2.5555555555555554"
      ]
     },
     "execution_count": 15,
     "metadata": {},
     "output_type": "execute_result"
    }
   ],
   "source": [
    "z"
   ]
  },
  {
   "cell_type": "code",
   "execution_count": 16,
   "id": "16438c73",
   "metadata": {},
   "outputs": [],
   "source": [
    "x=2/9"
   ]
  },
  {
   "cell_type": "code",
   "execution_count": 17,
   "id": "d5daddbe",
   "metadata": {},
   "outputs": [
    {
     "data": {
      "text/plain": [
       "-2.5555555555555554"
      ]
     },
     "execution_count": 17,
     "metadata": {},
     "output_type": "execute_result"
    }
   ],
   "source": [
    "z"
   ]
  },
  {
   "cell_type": "code",
   "execution_count": 19,
   "id": "38498558",
   "metadata": {},
   "outputs": [
    {
     "data": {
      "text/plain": [
       "-2.7777777777777777"
      ]
     },
     "execution_count": 19,
     "metadata": {},
     "output_type": "execute_result"
    }
   ],
   "source": [
    "z"
   ]
  },
  {
   "cell_type": "code",
   "execution_count": 22,
   "id": "bff74834",
   "metadata": {},
   "outputs": [
    {
     "data": {
      "text/plain": [
       "2.5"
      ]
     },
     "execution_count": 22,
     "metadata": {},
     "output_type": "execute_result"
    }
   ],
   "source": [
    "# add, subtract, multiply and divide\n",
    "5/2"
   ]
  },
  {
   "cell_type": "code",
   "execution_count": 23,
   "id": "2541426a",
   "metadata": {},
   "outputs": [
    {
     "data": {
      "text/plain": [
       "-27"
      ]
     },
     "execution_count": 23,
     "metadata": {},
     "output_type": "execute_result"
    }
   ],
   "source": [
    "# powers\n",
    "(-3)**3"
   ]
  },
  {
   "cell_type": "code",
   "execution_count": null,
   "id": "2aec98a4",
   "metadata": {},
   "outputs": [],
   "source": []
  }
 ],
 "metadata": {
  "kernelspec": {
   "display_name": "Python 3",
   "language": "python",
   "name": "python3"
  },
  "language_info": {
   "codemirror_mode": {
    "name": "ipython",
    "version": 3
   },
   "file_extension": ".py",
   "mimetype": "text/x-python",
   "name": "python",
   "nbconvert_exporter": "python",
   "pygments_lexer": "ipython3",
   "version": "3.8.8"
  }
 },
 "nbformat": 4,
 "nbformat_minor": 5
}
