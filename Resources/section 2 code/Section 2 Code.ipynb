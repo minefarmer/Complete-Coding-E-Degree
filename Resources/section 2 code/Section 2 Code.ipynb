{
 "cells": [
  {
   "cell_type": "code",
   "execution_count": 1,
   "metadata": {},
   "outputs": [],
   "source": [
    "#Section 2.1"
   ]
  },
  {
   "cell_type": "code",
   "execution_count": 8,
   "metadata": {},
   "outputs": [
    {
     "name": "stdout",
     "output_type": "stream",
     "text": [
      "What's your number?4\n",
      "16.0\n"
     ]
    }
   ],
   "source": [
    "#printing characteristics of a number\n",
    "#determining if a number if positive or negative\n",
    "\n",
    "number = float(input(\"What's your number?\"))\n",
    "\n",
    "if number >= 0:\n",
    "    squared = number**2\n",
    "    print(squared)\n",
    "else:\n",
    "    print(\"negative number\")"
   ]
  },
  {
   "cell_type": "code",
   "execution_count": 9,
   "metadata": {},
   "outputs": [],
   "source": [
    "#Section 2.2"
   ]
  },
  {
   "cell_type": "code",
   "execution_count": 10,
   "metadata": {},
   "outputs": [
    {
     "name": "stdout",
     "output_type": "stream",
     "text": [
      "Our summation is... 15\n"
     ]
    }
   ],
   "source": [
    "#list of some numbers\n",
    "list1 = [1,2,3,4,5]\n",
    "\n",
    "summed_list = 0\n",
    "\n",
    "for x in list1:\n",
    "    summed_list = summed_list+x\n",
    "\n",
    "print(\"Our summation is...\",summed_list)"
   ]
  },
  {
   "cell_type": "code",
   "execution_count": 11,
   "metadata": {},
   "outputs": [
    {
     "name": "stdout",
     "output_type": "stream",
     "text": [
      "Profits after taxes are: 1203.75\n"
     ]
    }
   ],
   "source": [
    "#list of some numbers\n",
    "list1 = [100,200,300,400,5]\n",
    "\n",
    "summed_list = 450\n",
    "\n",
    "for x in list1:\n",
    "    summed_list = summed_list + 0.75*x\n",
    "\n",
    "print(\"Profits after taxes are:\", summed_list)"
   ]
  },
  {
   "cell_type": "code",
   "execution_count": 12,
   "metadata": {},
   "outputs": [],
   "source": [
    "#Section 2.3"
   ]
  },
  {
   "cell_type": "code",
   "execution_count": 4,
   "metadata": {},
   "outputs": [
    {
     "name": "stdout",
     "output_type": "stream",
     "text": [
      "Enter your N value here:54\n",
      "Our summation is equal to 1485\n"
     ]
    }
   ],
   "source": [
    "#sum the number 1 through N\n",
    "\n",
    "N = int(input(\"Enter your N value here:\"))\n",
    "\n",
    "summation = 0\n",
    "j = 1\n",
    "\n",
    "while j <= N:\n",
    "    summation = summation + j\n",
    "    j = j + 1\n",
    "    \n",
    "print(\"Our summation is equal to\", summation)"
   ]
  },
  {
   "cell_type": "code",
   "execution_count": 6,
   "metadata": {},
   "outputs": [
    {
     "name": "stdout",
     "output_type": "stream",
     "text": [
      "Interior loop value\n",
      "Interior loop value\n",
      "Interior loop value\n",
      "Interior loop value\n",
      "Interior loop value\n",
      "Exterior loop value\n"
     ]
    }
   ],
   "source": [
    "counter = 1\n",
    "\n",
    "while counter <= 5:\n",
    "    print(\"Interior loop value\")\n",
    "    counter = counter + 1\n",
    "else:\n",
    "    print(\"Exterior loop value\")"
   ]
  },
  {
   "cell_type": "code",
   "execution_count": 7,
   "metadata": {},
   "outputs": [],
   "source": [
    "#Section 2.4"
   ]
  },
  {
   "cell_type": "code",
   "execution_count": 9,
   "metadata": {},
   "outputs": [
    {
     "name": "stdout",
     "output_type": "stream",
     "text": [
      "t\n",
      "i\n",
      "s\n",
      " \n",
      "s\n",
      "t\n",
      "r\n",
      "i\n",
      "n\n",
      "g\n",
      " \n",
      "e\n",
      "r\n",
      "e\n",
      "this ends our program\n"
     ]
    }
   ],
   "source": [
    "for x in \"this string here\":\n",
    "    if x == \"h\":\n",
    "        continue\n",
    "    print(x)\n",
    "\n",
    "print(\"this ends our program\")"
   ]
  },
  {
   "cell_type": "code",
   "execution_count": null,
   "metadata": {},
   "outputs": [],
   "source": []
  }
 ],
 "metadata": {
  "kernelspec": {
   "display_name": "Python 3",
   "language": "python",
   "name": "python3"
  },
  "language_info": {
   "codemirror_mode": {
    "name": "ipython",
    "version": 3
   },
   "file_extension": ".py",
   "mimetype": "text/x-python",
   "name": "python",
   "nbconvert_exporter": "python",
   "pygments_lexer": "ipython3",
   "version": "3.8.5"
  }
 },
 "nbformat": 4,
 "nbformat_minor": 4
}
